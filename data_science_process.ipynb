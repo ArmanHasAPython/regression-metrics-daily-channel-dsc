{
 "cells": [
  {
   "cell_type": "code",
   "execution_count": 1,
   "metadata": {},
   "outputs": [],
   "source": [
    "import numpy as np\n",
    "import pandas as pd"
   ]
  },
  {
   "cell_type": "markdown",
   "metadata": {},
   "source": [
    "# Problem Understanding"
   ]
  },
  {
   "cell_type": "markdown",
   "metadata": {},
   "source": [
    "Your Real Estate partner in California needs your help with pricing homes at the optimal level<br>\n",
    "\n",
    "Help them to predict the expected sale value of properties in their State and you will get slice of their additional sales commission 💸"
   ]
  },
  {
   "cell_type": "markdown",
   "metadata": {},
   "source": [
    "# Data Understanding"
   ]
  },
  {
   "cell_type": "code",
   "execution_count": 2,
   "metadata": {},
   "outputs": [
    {
     "name": "stdout",
     "output_type": "stream",
     "text": [
      ".. _california_housing_dataset:\n",
      "\n",
      "California Housing dataset\n",
      "--------------------------\n",
      "\n",
      "**Data Set Characteristics:**\n",
      "\n",
      "    :Number of Instances: 20640\n",
      "\n",
      "    :Number of Attributes: 8 numeric, predictive attributes and the target\n",
      "\n",
      "    :Attribute Information:\n",
      "        - MedInc        median income in block\n",
      "        - HouseAge      median house age in block\n",
      "        - AveRooms      average number of rooms\n",
      "        - AveBedrms     average number of bedrooms\n",
      "        - Population    block population\n",
      "        - AveOccup      average house occupancy\n",
      "        - Latitude      house block latitude\n",
      "        - Longitude     house block longitude\n",
      "\n",
      "    :Missing Attribute Values: None\n",
      "\n",
      "This dataset was obtained from the StatLib repository.\n",
      "http://lib.stat.cmu.edu/datasets/\n",
      "\n",
      "The target variable is the median house value for California districts.\n",
      "\n",
      "This dataset was derived from the 1990 U.S. census, using one row per census\n",
      "block group. A block group is the smallest geographical unit for which the U.S.\n",
      "Census Bureau publishes sample data (a block group typically has a population\n",
      "of 600 to 3,000 people).\n",
      "\n",
      "It can be downloaded/loaded using the\n",
      ":func:`sklearn.datasets.fetch_california_housing` function.\n",
      "\n",
      ".. topic:: References\n",
      "\n",
      "    - Pace, R. Kelley and Ronald Barry, Sparse Spatial Autoregressions,\n",
      "      Statistics and Probability Letters, 33 (1997) 291-297\n",
      "\n"
     ]
    }
   ],
   "source": [
    "from sklearn.datasets import fetch_california_housing\n",
    "data = fetch_california_housing()\n",
    "print(data['DESCR'])"
   ]
  },
  {
   "cell_type": "code",
   "execution_count": 3,
   "metadata": {},
   "outputs": [
    {
     "data": {
      "text/html": [
       "<div>\n",
       "<style scoped>\n",
       "    .dataframe tbody tr th:only-of-type {\n",
       "        vertical-align: middle;\n",
       "    }\n",
       "\n",
       "    .dataframe tbody tr th {\n",
       "        vertical-align: top;\n",
       "    }\n",
       "\n",
       "    .dataframe thead th {\n",
       "        text-align: right;\n",
       "    }\n",
       "</style>\n",
       "<table border=\"1\" class=\"dataframe\">\n",
       "  <thead>\n",
       "    <tr style=\"text-align: right;\">\n",
       "      <th></th>\n",
       "      <th>MedInc</th>\n",
       "      <th>HouseAge</th>\n",
       "      <th>AveRooms</th>\n",
       "      <th>AveBedrms</th>\n",
       "      <th>Population</th>\n",
       "      <th>AveOccup</th>\n",
       "      <th>Latitude</th>\n",
       "      <th>Longitude</th>\n",
       "    </tr>\n",
       "  </thead>\n",
       "  <tbody>\n",
       "    <tr>\n",
       "      <th>0</th>\n",
       "      <td>8.3252</td>\n",
       "      <td>41.0</td>\n",
       "      <td>6.984127</td>\n",
       "      <td>1.023810</td>\n",
       "      <td>322.0</td>\n",
       "      <td>2.555556</td>\n",
       "      <td>37.88</td>\n",
       "      <td>-122.23</td>\n",
       "    </tr>\n",
       "    <tr>\n",
       "      <th>1</th>\n",
       "      <td>8.3014</td>\n",
       "      <td>21.0</td>\n",
       "      <td>6.238137</td>\n",
       "      <td>0.971880</td>\n",
       "      <td>2401.0</td>\n",
       "      <td>2.109842</td>\n",
       "      <td>37.86</td>\n",
       "      <td>-122.22</td>\n",
       "    </tr>\n",
       "    <tr>\n",
       "      <th>2</th>\n",
       "      <td>7.2574</td>\n",
       "      <td>52.0</td>\n",
       "      <td>8.288136</td>\n",
       "      <td>1.073446</td>\n",
       "      <td>496.0</td>\n",
       "      <td>2.802260</td>\n",
       "      <td>37.85</td>\n",
       "      <td>-122.24</td>\n",
       "    </tr>\n",
       "    <tr>\n",
       "      <th>3</th>\n",
       "      <td>5.6431</td>\n",
       "      <td>52.0</td>\n",
       "      <td>5.817352</td>\n",
       "      <td>1.073059</td>\n",
       "      <td>558.0</td>\n",
       "      <td>2.547945</td>\n",
       "      <td>37.85</td>\n",
       "      <td>-122.25</td>\n",
       "    </tr>\n",
       "    <tr>\n",
       "      <th>4</th>\n",
       "      <td>3.8462</td>\n",
       "      <td>52.0</td>\n",
       "      <td>6.281853</td>\n",
       "      <td>1.081081</td>\n",
       "      <td>565.0</td>\n",
       "      <td>2.181467</td>\n",
       "      <td>37.85</td>\n",
       "      <td>-122.25</td>\n",
       "    </tr>\n",
       "  </tbody>\n",
       "</table>\n",
       "</div>"
      ],
      "text/plain": [
       "   MedInc  HouseAge  AveRooms  AveBedrms  Population  AveOccup  Latitude  \\\n",
       "0  8.3252      41.0  6.984127   1.023810       322.0  2.555556     37.88   \n",
       "1  8.3014      21.0  6.238137   0.971880      2401.0  2.109842     37.86   \n",
       "2  7.2574      52.0  8.288136   1.073446       496.0  2.802260     37.85   \n",
       "3  5.6431      52.0  5.817352   1.073059       558.0  2.547945     37.85   \n",
       "4  3.8462      52.0  6.281853   1.081081       565.0  2.181467     37.85   \n",
       "\n",
       "   Longitude  \n",
       "0    -122.23  \n",
       "1    -122.22  \n",
       "2    -122.24  \n",
       "3    -122.25  \n",
       "4    -122.25  "
      ]
     },
     "execution_count": 3,
     "metadata": {},
     "output_type": "execute_result"
    }
   ],
   "source": [
    "X = pd.DataFrame(data['data'],columns=data['feature_names'])\n",
    "y = data['target']\n",
    "X.head()"
   ]
  },
  {
   "cell_type": "markdown",
   "metadata": {},
   "source": [
    "# Data preparation"
   ]
  },
  {
   "cell_type": "markdown",
   "metadata": {},
   "source": [
    "### Split your X data in train and test datasets\n",
    "Here is the documentation: https://scikit-learn.org/stable/modules/generated/sklearn.model_selection.train_test_split.html"
   ]
  },
  {
   "cell_type": "markdown",
   "metadata": {},
   "source": [
    "Always fit in the training data set"
   ]
  },
  {
   "cell_type": "code",
   "execution_count": 14,
   "metadata": {},
   "outputs": [],
   "source": [
    "from sklearn.model_selection import train_test_split\n",
    "X_train, X_test, y_train, y_test = train_test_split(X,y,test_size = 0.2, random_state = 42)\n",
    "\n"
   ]
  },
  {
   "cell_type": "code",
   "execution_count": 15,
   "metadata": {},
   "outputs": [
    {
     "name": "stdout",
     "output_type": "stream",
     "text": [
      "My X_train shape is:  (16512, 8)\n",
      "My X_test shape is:  (4128, 8)\n",
      "My training dependent variable is:  (16512,)\n",
      "My test dependent variable is:  (4128,)\n"
     ]
    }
   ],
   "source": [
    "print(\"My X_train shape is: \", X_train.shape)\n",
    "print(\"My X_test shape is: \", X_test.shape)\n",
    "print(\"My training dependent variable is: \", y_train.shape)\n",
    "print(\"My test dependent variable is: \", y_test.shape)"
   ]
  },
  {
   "cell_type": "markdown",
   "metadata": {},
   "source": [
    "### Split your train data in train and validation datasets"
   ]
  },
  {
   "cell_type": "markdown",
   "metadata": {},
   "source": [
    "Now we are going to do some feature engineering. The validation data set measures the performance of the models which allows us to do comparisons across the models. This include linear regression and lasso. Two learners allow comparison of two models. You use this data set because TEST DATA SET IS ONLY CHECKED ONCE"
   ]
  },
  {
   "cell_type": "code",
   "execution_count": 16,
   "metadata": {},
   "outputs": [
    {
     "name": "stdout",
     "output_type": "stream",
     "text": [
      "My final training set is:  (19640, 8)\n",
      "My validation set is:  (1000, 8)\n",
      "My training dependent variable is:  (19640,)\n",
      "My test dependent variable is:  (1000,)\n"
     ]
    }
   ],
   "source": [
    "from sklearn.model_selection import train_test_split\n",
    "# We are creating a new data set because test data set is checked once\n",
    "\n",
    "X_train_final, X_test_validation, y_train_final, y_test_validation = train_test_split(X,y, test_size = 1000, \n",
    "                                                                                           random_state = 51)\n",
    "\n",
    "print(\"My final training set is: \", X_train_final.shape)\n",
    "print(\"My validation set is: \", X_test_validation.shape)\n",
    "print(\"My training dependent variable is: \", y_train_final.shape)\n",
    "print(\"My test dependent variable is: \", y_test_validation.shape)\n",
    "\n",
    "\n",
    "\n",
    "\n"
   ]
  },
  {
   "cell_type": "markdown",
   "metadata": {},
   "source": [
    "Now we must do the scaling"
   ]
  },
  {
   "cell_type": "markdown",
   "metadata": {},
   "source": [
    "### Scale the 3 datasets using StandardScaler"
   ]
  },
  {
   "cell_type": "code",
   "execution_count": 19,
   "metadata": {},
   "outputs": [],
   "source": [
    "from sklearn.preprocessing import StandardScaler \n",
    "\n",
    "scaler = StandardScaler()\n",
    "\n",
    "# We fit only on train data set and transform on all data sets\n",
    "scaler.fit(X_train_final)\n",
    "\n",
    "# Perform scaling for each dataset\n",
    "X_train_final_scaled = scaler.transform(X_train_final)\n",
    "X_test_validation_scaled = scaler.transform(X_test_validation)\n",
    "X_test_scaled = scaler.transform(X_test)\n",
    "\n",
    "# Bring the data back into a DataFrame\n",
    "X_train_scaled = pd.DataFrame(X_train_final_scaled, columns=data['feature_names'])\n",
    "X_validation_scaled = pd.DataFrame(X_test_validation_scaled, columns=data['feature_names'])\n",
    "X_test_scaled = pd.DataFrame(X_test_scaled, columns=data['feature_names'])"
   ]
  },
  {
   "cell_type": "markdown",
   "metadata": {},
   "source": [
    "# Modelling and Model Evaluation"
   ]
  },
  {
   "cell_type": "markdown",
   "metadata": {},
   "source": [
    "### Train a linear regression model"
   ]
  },
  {
   "cell_type": "code",
   "execution_count": 20,
   "metadata": {},
   "outputs": [
    {
     "name": "stdout",
     "output_type": "stream",
     "text": [
      "The initial R-squared value for the linear model is:  0.6\n",
      "The median income has a coefficient of:  0.83\n",
      "The average room has a coefficient of:  0.12\n",
      "The intercept of the regression is 2.06\n"
     ]
    }
   ],
   "source": [
    "from sklearn.linear_model import LinearRegression\n",
    "# Setting up the learner\n",
    "lin_reg = LinearRegression()\n",
    "\n",
    "# Actually learning\n",
    "#This is fit on the TRAINING AND SCALED DATA\n",
    "lin_reg.fit(X_train_scaled, y_train_final) \n",
    "\n",
    "#R-squared\n",
    "initial_score = lin_reg.score(X_train_final_scaled, y_train_final)\n",
    "print(\"The initial R-squared value for the linear model is: \", initial_score.round(2))\n",
    "\n",
    "# Print the coefficient of the linear regression\n",
    "parameters = lin_reg.coef_ \n",
    "\n",
    "print(\"The median income has a coefficient of: \", parameters[0].round(2))\n",
    "print(\"The average room has a coefficient of: \", parameters[1].round(2))\n",
    "\n",
    "# and intercept\n",
    "inter = lin_reg.intercept_\n",
    "print(\"The intercept of the regression is\", inter.round(2))\n",
    "\n"
   ]
  },
  {
   "cell_type": "markdown",
   "metadata": {},
   "source": [
    "### Measure the R-squared, MSE and MAE of your model\n",
    "Here is the documentation: https://scikit-learn.org/stable/modules/model_evaluation.html#regression-metrics"
   ]
  },
  {
   "cell_type": "code",
   "execution_count": 24,
   "metadata": {},
   "outputs": [
    {
     "name": "stdout",
     "output_type": "stream",
     "text": [
      "The Initial R2 value for the linear model is:  0.6\n",
      "The Mean Squared Error for this model is:  0.53\n",
      "The Mean Absolute Error for this model is:  0.53\n"
     ]
    }
   ],
   "source": [
    "from sklearn.metrics import r2_score, mean_squared_error, mean_absolute_error\n",
    "\n",
    "initial_score = lin_reg.score(X_train_scaled, y_train_final)\n",
    "print(\"The Initial R2 value for the linear model is: \", initial_score.round(2))\n",
    "\n",
    "#Predicting the values for the model\n",
    "X_train_scaled_y_pred = lin_reg.predict(X_train_scaled)\n",
    "\n",
    "#MSE\n",
    "mse = mean_squared_error (y_train_final, X_train_scaled_y_pred)\n",
    "print(\"The Mean Squared Error for this model is: \", mse.round(2))\n",
    "\n",
    "#MAE\n",
    "mae = mean_absolute_error (y_train_final, X_train_scaled_y_pred)\n",
    "print(\"The Mean Absolute Error for this model is: \", mae.round(2))"
   ]
  },
  {
   "cell_type": "markdown",
   "metadata": {},
   "source": [
    "### Train a LASSO model"
   ]
  },
  {
   "cell_type": "code",
   "execution_count": 23,
   "metadata": {},
   "outputs": [
    {
     "data": {
      "text/plain": [
       "0.40411814446198013"
      ]
     },
     "execution_count": 23,
     "metadata": {},
     "output_type": "execute_result"
    }
   ],
   "source": [
    "from sklearn.linear_model import Lasso\n",
    "\n",
    "lasso = Lasso(.30)\n",
    "lasso.fit(X_train_scaled, y_train_final)\n",
    "lasso.score(X_train_scaled,y_train_final)"
   ]
  },
  {
   "cell_type": "markdown",
   "metadata": {},
   "source": [
    "### Measure the R-squared, MSE and MAE of your model"
   ]
  },
  {
   "cell_type": "code",
   "execution_count": 26,
   "metadata": {},
   "outputs": [
    {
     "name": "stdout",
     "output_type": "stream",
     "text": [
      "The Initial R-Squared value for the linear model is:  0.4\n",
      "The mse for this model is:  0.79\n",
      " The mae for this model is:  0.69\n"
     ]
    }
   ],
   "source": [
    "initial_score_1 = lasso.score(X_train_scaled, y_train_final)\n",
    "print(\"The Initial R-Squared value for the linear model is: \", initial_score_1.round(2))\n",
    "\n",
    "X_train_scaled_y_pred_lasso = lasso.predict(X_train_scaled)\n",
    "\n",
    "mse = mean_squared_error(y_train_final, X_train_scaled_y_pred_lasso)\n",
    "print(\"The mse for this model is: \", mse.round(2))\n",
    "\n",
    "mae = mean_absolute_error(y_train_final, X_train_scaled_y_pred_lasso)\n",
    "print(\" The mae for this model is: \", mae.round(2)) \n",
    "\n"
   ]
  },
  {
   "cell_type": "markdown",
   "metadata": {},
   "source": [
    "## Double Check predicted values"
   ]
  },
  {
   "cell_type": "code",
   "execution_count": 27,
   "metadata": {},
   "outputs": [
    {
     "name": "stdout",
     "output_type": "stream",
     "text": [
      "[1.83049098 3.06381423 1.51770607 ... 2.55035529 1.54524753 1.92540788]\n",
      "[1.14074975 3.12203254 0.8348561  ... 3.2768874  1.02381601 1.78280422]\n"
     ]
    }
   ],
   "source": [
    "print(X_train_scaled_y_pred_lasso)\n",
    "print(X_train_scaled_y_pred)"
   ]
  },
  {
   "cell_type": "markdown",
   "metadata": {},
   "source": [
    "# Interprete your winning model"
   ]
  },
  {
   "cell_type": "code",
   "execution_count": null,
   "metadata": {},
   "outputs": [],
   "source": []
  },
  {
   "cell_type": "markdown",
   "metadata": {},
   "source": [
    "### What can you tell your business partner by looking at the coefficients?"
   ]
  },
  {
   "cell_type": "code",
   "execution_count": null,
   "metadata": {},
   "outputs": [],
   "source": [
    "# \n",
    "# \n",
    "# "
   ]
  }
 ],
 "metadata": {
  "kernelspec": {
   "display_name": "Python [conda env:learn-env] *",
   "language": "python",
   "name": "conda-env-learn-env-py"
  },
  "language_info": {
   "codemirror_mode": {
    "name": "ipython",
    "version": 3
   },
   "file_extension": ".py",
   "mimetype": "text/x-python",
   "name": "python",
   "nbconvert_exporter": "python",
   "pygments_lexer": "ipython3",
   "version": "3.6.6"
  }
 },
 "nbformat": 4,
 "nbformat_minor": 2
}
